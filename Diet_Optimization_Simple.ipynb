{
 "cells": [
  {
   "cell_type": "code",
   "execution_count": 1,
   "id": "1129a17e-0dab-4826-94fb-f3b20ee5876f",
   "metadata": {},
   "outputs": [],
   "source": [
    "# import required packages\n",
    "import pandas as pd\n",
    "from pulp import *\n",
    "import numpy as np"
   ]
  },
  {
   "cell_type": "code",
   "execution_count": 2,
   "id": "3461ce9b-61ac-4997-9d36-100f4ff91de2",
   "metadata": {},
   "outputs": [
    {
     "data": {
      "text/html": [
       "<div>\n",
       "<style scoped>\n",
       "    .dataframe tbody tr th:only-of-type {\n",
       "        vertical-align: middle;\n",
       "    }\n",
       "\n",
       "    .dataframe tbody tr th {\n",
       "        vertical-align: top;\n",
       "    }\n",
       "\n",
       "    .dataframe thead th {\n",
       "        text-align: right;\n",
       "    }\n",
       "</style>\n",
       "<table border=\"1\" class=\"dataframe\">\n",
       "  <thead>\n",
       "    <tr style=\"text-align: right;\">\n",
       "      <th></th>\n",
       "      <th>Foods</th>\n",
       "      <th>Price/ Serving</th>\n",
       "      <th>Serving Size</th>\n",
       "      <th>Calories</th>\n",
       "      <th>Cholesterol mg</th>\n",
       "      <th>Total_Fat g</th>\n",
       "      <th>Sodium mg</th>\n",
       "      <th>Carbohydrates g</th>\n",
       "      <th>Dietary_Fiber g</th>\n",
       "      <th>Protein g</th>\n",
       "      <th>Vit_A IU</th>\n",
       "      <th>Vit_C IU</th>\n",
       "      <th>Calcium mg</th>\n",
       "      <th>Iron mg</th>\n",
       "    </tr>\n",
       "  </thead>\n",
       "  <tbody>\n",
       "    <tr>\n",
       "      <th>0</th>\n",
       "      <td>Frozen Broccoli</td>\n",
       "      <td>0.16</td>\n",
       "      <td>10 Oz Pkg</td>\n",
       "      <td>73.8</td>\n",
       "      <td>0.0</td>\n",
       "      <td>0.8</td>\n",
       "      <td>68.2</td>\n",
       "      <td>13.6</td>\n",
       "      <td>8.5</td>\n",
       "      <td>8.0</td>\n",
       "      <td>5867.4</td>\n",
       "      <td>160.2</td>\n",
       "      <td>159.0</td>\n",
       "      <td>2.3</td>\n",
       "    </tr>\n",
       "    <tr>\n",
       "      <th>1</th>\n",
       "      <td>Carrots,Raw</td>\n",
       "      <td>0.07</td>\n",
       "      <td>1/2 Cup Shredded</td>\n",
       "      <td>23.7</td>\n",
       "      <td>0.0</td>\n",
       "      <td>0.1</td>\n",
       "      <td>19.2</td>\n",
       "      <td>5.6</td>\n",
       "      <td>1.6</td>\n",
       "      <td>0.6</td>\n",
       "      <td>15471.0</td>\n",
       "      <td>5.1</td>\n",
       "      <td>14.9</td>\n",
       "      <td>0.3</td>\n",
       "    </tr>\n",
       "    <tr>\n",
       "      <th>2</th>\n",
       "      <td>Celery, Raw</td>\n",
       "      <td>0.04</td>\n",
       "      <td>1 Stalk</td>\n",
       "      <td>6.4</td>\n",
       "      <td>0.0</td>\n",
       "      <td>0.1</td>\n",
       "      <td>34.8</td>\n",
       "      <td>1.5</td>\n",
       "      <td>0.7</td>\n",
       "      <td>0.3</td>\n",
       "      <td>53.6</td>\n",
       "      <td>2.8</td>\n",
       "      <td>16.0</td>\n",
       "      <td>0.2</td>\n",
       "    </tr>\n",
       "    <tr>\n",
       "      <th>3</th>\n",
       "      <td>Frozen Corn</td>\n",
       "      <td>0.18</td>\n",
       "      <td>1/2 Cup</td>\n",
       "      <td>72.2</td>\n",
       "      <td>0.0</td>\n",
       "      <td>0.6</td>\n",
       "      <td>2.5</td>\n",
       "      <td>17.1</td>\n",
       "      <td>2.0</td>\n",
       "      <td>2.5</td>\n",
       "      <td>106.6</td>\n",
       "      <td>5.2</td>\n",
       "      <td>3.3</td>\n",
       "      <td>0.3</td>\n",
       "    </tr>\n",
       "    <tr>\n",
       "      <th>4</th>\n",
       "      <td>Lettuce,Iceberg,Raw</td>\n",
       "      <td>0.02</td>\n",
       "      <td>1 Leaf</td>\n",
       "      <td>2.6</td>\n",
       "      <td>0.0</td>\n",
       "      <td>0.0</td>\n",
       "      <td>1.8</td>\n",
       "      <td>0.4</td>\n",
       "      <td>0.3</td>\n",
       "      <td>0.2</td>\n",
       "      <td>66.0</td>\n",
       "      <td>0.8</td>\n",
       "      <td>3.8</td>\n",
       "      <td>0.1</td>\n",
       "    </tr>\n",
       "  </tbody>\n",
       "</table>\n",
       "</div>"
      ],
      "text/plain": [
       "                 Foods  Price/ Serving      Serving Size  Calories  \\\n",
       "0      Frozen Broccoli            0.16         10 Oz Pkg      73.8   \n",
       "1          Carrots,Raw            0.07  1/2 Cup Shredded      23.7   \n",
       "2          Celery, Raw            0.04           1 Stalk       6.4   \n",
       "3          Frozen Corn            0.18           1/2 Cup      72.2   \n",
       "4  Lettuce,Iceberg,Raw            0.02            1 Leaf       2.6   \n",
       "\n",
       "   Cholesterol mg  Total_Fat g  Sodium mg  Carbohydrates g  Dietary_Fiber g  \\\n",
       "0             0.0          0.8       68.2             13.6              8.5   \n",
       "1             0.0          0.1       19.2              5.6              1.6   \n",
       "2             0.0          0.1       34.8              1.5              0.7   \n",
       "3             0.0          0.6        2.5             17.1              2.0   \n",
       "4             0.0          0.0        1.8              0.4              0.3   \n",
       "\n",
       "   Protein g  Vit_A IU  Vit_C IU  Calcium mg  Iron mg  \n",
       "0        8.0    5867.4     160.2       159.0      2.3  \n",
       "1        0.6   15471.0       5.1        14.9      0.3  \n",
       "2        0.3      53.6       2.8        16.0      0.2  \n",
       "3        2.5     106.6       5.2         3.3      0.3  \n",
       "4        0.2      66.0       0.8         3.8      0.1  "
      ]
     },
     "execution_count": 2,
     "metadata": {},
     "output_type": "execute_result"
    }
   ],
   "source": [
    "# import and prepare data\n",
    "diet0 = pd.read_excel('diet.xls', sheet_name = 'Sheet1')\n",
    "diet = diet0[:64]\n",
    "diet.head()"
   ]
  },
  {
   "cell_type": "code",
   "execution_count": 3,
   "id": "92083511-fa45-4a0c-8264-a8efc22cba8e",
   "metadata": {},
   "outputs": [
    {
     "data": {
      "text/plain": [
       "Index(['Foods', 'Price/ Serving', 'Serving Size', 'Calories', 'Cholesterol mg',\n",
       "       'Total_Fat g', 'Sodium mg', 'Carbohydrates g', 'Dietary_Fiber g',\n",
       "       'Protein g', 'Vit_A IU', 'Vit_C IU', 'Calcium mg', 'Iron mg'],\n",
       "      dtype='object')"
      ]
     },
     "execution_count": 3,
     "metadata": {},
     "output_type": "execute_result"
    }
   ],
   "source": [
    "diet.columns"
   ]
  },
  {
   "cell_type": "code",
   "execution_count": 4,
   "id": "e863cf4b-9247-48f1-9fee-99058ebb53b8",
   "metadata": {},
   "outputs": [
    {
     "data": {
      "text/html": [
       "<div>\n",
       "<style scoped>\n",
       "    .dataframe tbody tr th:only-of-type {\n",
       "        vertical-align: middle;\n",
       "    }\n",
       "\n",
       "    .dataframe tbody tr th {\n",
       "        vertical-align: top;\n",
       "    }\n",
       "\n",
       "    .dataframe thead th {\n",
       "        text-align: right;\n",
       "    }\n",
       "</style>\n",
       "<table border=\"1\" class=\"dataframe\">\n",
       "  <thead>\n",
       "    <tr style=\"text-align: right;\">\n",
       "      <th></th>\n",
       "      <th>Calories</th>\n",
       "      <th>Cholesterol mg</th>\n",
       "      <th>Total_Fat g</th>\n",
       "      <th>Sodium mg</th>\n",
       "      <th>Carbohydrates g</th>\n",
       "      <th>Dietary_Fiber g</th>\n",
       "      <th>Protein g</th>\n",
       "      <th>Vit_A IU</th>\n",
       "      <th>Vit_C IU</th>\n",
       "      <th>Calcium mg</th>\n",
       "      <th>Iron mg</th>\n",
       "    </tr>\n",
       "  </thead>\n",
       "  <tbody>\n",
       "    <tr>\n",
       "      <th>65</th>\n",
       "      <td>1500.0</td>\n",
       "      <td>30.0</td>\n",
       "      <td>20.0</td>\n",
       "      <td>800.0</td>\n",
       "      <td>130.0</td>\n",
       "      <td>125.0</td>\n",
       "      <td>60.0</td>\n",
       "      <td>1000.0</td>\n",
       "      <td>400.0</td>\n",
       "      <td>700.0</td>\n",
       "      <td>10.0</td>\n",
       "    </tr>\n",
       "    <tr>\n",
       "      <th>66</th>\n",
       "      <td>2500.0</td>\n",
       "      <td>240.0</td>\n",
       "      <td>70.0</td>\n",
       "      <td>2000.0</td>\n",
       "      <td>450.0</td>\n",
       "      <td>250.0</td>\n",
       "      <td>100.0</td>\n",
       "      <td>10000.0</td>\n",
       "      <td>5000.0</td>\n",
       "      <td>1500.0</td>\n",
       "      <td>40.0</td>\n",
       "    </tr>\n",
       "  </tbody>\n",
       "</table>\n",
       "</div>"
      ],
      "text/plain": [
       "    Calories  Cholesterol mg  Total_Fat g  Sodium mg  Carbohydrates g  \\\n",
       "65    1500.0            30.0         20.0      800.0            130.0   \n",
       "66    2500.0           240.0         70.0     2000.0            450.0   \n",
       "\n",
       "    Dietary_Fiber g  Protein g  Vit_A IU  Vit_C IU  Calcium mg  Iron mg  \n",
       "65            125.0       60.0    1000.0     400.0       700.0     10.0  \n",
       "66            250.0      100.0   10000.0    5000.0      1500.0     40.0  "
      ]
     },
     "execution_count": 4,
     "metadata": {},
     "output_type": "execute_result"
    }
   ],
   "source": [
    "daily_intake = diet0[-2:]\n",
    "daily_intake = daily_intake.drop(columns=['Foods', 'Price/ Serving', 'Serving Size'])\n",
    "daily_intake"
   ]
  },
  {
   "cell_type": "code",
   "execution_count": 5,
   "id": "8cd92181-a81d-4cc0-a9c7-5dc44955b278",
   "metadata": {},
   "outputs": [
    {
     "data": {
      "text/plain": [
       "dict_keys(['Price/ Serving', 'Calories', 'Cholesterol mg', 'Total_Fat g', 'Sodium mg', 'Carbohydrates g', 'Dietary_Fiber g', 'Protein g', 'Vit_A IU', 'Vit_C IU', 'Calcium mg', 'Iron mg'])"
      ]
     },
     "execution_count": 5,
     "metadata": {},
     "output_type": "execute_result"
    }
   ],
   "source": [
    "food = diet.Foods.tolist()\n",
    "all_data = {}\n",
    "for j in ['Price/ Serving', 'Calories', 'Cholesterol mg',\n",
    "       'Total_Fat g', 'Sodium mg', 'Carbohydrates g', 'Dietary_Fiber g',\n",
    "       'Protein g', 'Vit_A IU', 'Vit_C IU', 'Calcium mg', 'Iron mg']:\n",
    "    all_data[j] = dict([(food[i], diet[j][i]) for i in range(len(food))])\n",
    "all_data.keys()"
   ]
  },
  {
   "cell_type": "code",
   "execution_count": 6,
   "id": "877c83e5-2e3c-4aab-9a13-1cfa3b4b9674",
   "metadata": {},
   "outputs": [],
   "source": [
    "# PuLP create the problem\n",
    "# this is a minimize problem - minimizing cost\n",
    "prob = LpProblem('Minimizing_Diet_Cost', LpMinimize)"
   ]
  },
  {
   "cell_type": "code",
   "execution_count": 7,
   "id": "12eb7959-0fbd-46db-831d-2d53b06438b3",
   "metadata": {},
   "outputs": [],
   "source": [
    "# create variables to be optimized, variables must be 0 or bigger\n",
    "variables = LpVariable.dicts('type', food, 0)"
   ]
  },
  {
   "cell_type": "code",
   "execution_count": 8,
   "id": "b67f4c02-e332-4237-b47b-80ad98cb8385",
   "metadata": {},
   "outputs": [],
   "source": [
    "# add objective function\n",
    "prob += lpSum([variables[i]*all_data['Price/ Serving'][i] for i in food]), 'cost_of_food'"
   ]
  },
  {
   "cell_type": "code",
   "execution_count": 9,
   "id": "64dc82d5-59b2-4190-b702-3c88a4e16150",
   "metadata": {},
   "outputs": [],
   "source": [
    "# add constraints, minimal and maximal\n",
    "for k in ['Calories', 'Cholesterol mg', \\\n",
    "          'Total_Fat g', 'Sodium mg', 'Carbohydrates g', 'Dietary_Fiber g',\\\n",
    "          'Protein g', 'Vit_A IU', 'Vit_C IU', 'Calcium mg', 'Iron mg']:\n",
    "    prob += lpSum([variables[i]*all_data[k][i] for i in food]) >= daily_intake[k].tolist()[0], 'min_'+k\n",
    "    prob += lpSum([variables[i]*all_data[k][i] for i in food]) <= daily_intake[k].tolist()[1], 'max_'+k"
   ]
  },
  {
   "cell_type": "code",
   "execution_count": 10,
   "id": "1130fdc3-3465-49d5-a892-7bc772cb0342",
   "metadata": {},
   "outputs": [
    {
     "name": "stdout",
     "output_type": "stream",
     "text": [
      "Status: Optimal\n"
     ]
    }
   ],
   "source": [
    "prob.solve()\n",
    "print(\"Status:\", LpStatus[prob.status])"
   ]
  },
  {
   "cell_type": "code",
   "execution_count": 11,
   "id": "75c734e4-acda-4957-bea4-30dd903a0f2e",
   "metadata": {},
   "outputs": [
    {
     "name": "stdout",
     "output_type": "stream",
     "text": [
      "Food selection to minimize cost:\n",
      "\n",
      "type_Celery,_Raw = 52.64371 servings\n",
      "type_Frozen_Broccoli = 0.25960653 servings\n",
      "type_Lettuce,Iceberg,Raw = 63.988506 servings\n",
      "type_Oranges = 2.2929389 servings\n",
      "type_Poached_Eggs = 0.14184397 servings\n",
      "type_Popcorn,Air_Popped = 13.869322 servings\n",
      "\n",
      "Total Diet Cost per Day = $ 4.34\n"
     ]
    }
   ],
   "source": [
    "# Final result for the optimization\n",
    "\n",
    "print('Food selection to minimize cost:\\n')\n",
    "for v in prob.variables():\n",
    "    if v.varValue > 0:\n",
    "        print(v.name, \"=\", v.varValue, 'servings')\n",
    "print(\"\\nTotal Diet Cost per Day = $\", round(value(prob.objective), 2))"
   ]
  },
  {
   "cell_type": "code",
   "execution_count": 12,
   "id": "15547d62-2756-41f7-a453-47747b5fb626",
   "metadata": {},
   "outputs": [],
   "source": [
    "# additional constraints should be added to make the diet more delicious :-) "
   ]
  },
  {
   "cell_type": "markdown",
   "id": "669e580d-6148-4d79-9535-3325565246b8",
   "metadata": {},
   "source": [
    "Adding additional constraints to the problem:\n",
    "a. If a food is selected, then a minimum of 1/10 serving must be chosen. (Hint: now you will need two variables for each food i: whether it is chosen, and how much is part of the diet. You’ll also need to write a constraint to link them.)\r\n",
    "\r\n",
    "b. Many people dislike celery and frozen broccoli. So at most one, but not both, can be selected.\r\n",
    "\r\n",
    "c. To get day-to-day variety in protein, at least 3 kinds of meat/poultry/fish/eggs must be selected. [If something is ambiguous (e.g., should bean-and-bacon soup be considered meat?), just call it whatever you think is appropriate – I want you to learn how to write this type of constraint, but I don’t really care whether we agree on how to classify foods!]"
   ]
  },
  {
   "cell_type": "code",
   "execution_count": 13,
   "id": "0bb33d91-7576-48ec-bb23-d97137e45ce2",
   "metadata": {},
   "outputs": [],
   "source": [
    "# create the problem\n",
    "prob1 = LpProblem('Minimizing_Diet_Cost', LpMinimize)\n",
    "\n",
    "# add objective function\n",
    "prob1 += lpSum([variables[i]*all_data['Price/ Serving'][i] for i in food]), 'cost_of_food'"
   ]
  },
  {
   "cell_type": "code",
   "execution_count": 14,
   "id": "5e4b70dc-6a35-42b4-b2f3-5698543a41a1",
   "metadata": {},
   "outputs": [],
   "source": [
    "# Condition a\n",
    "# If a food is selected, then a minimum of 1/10 serving must be chosen\n",
    "# create additional variables to decide if the food type is chosen\n",
    "# this variable is binary with values 0 (not chosen) and 1 (chosen)\n",
    "\n",
    "y = LpVariable.dicts('choose', food, 0, 1, LpInteger)\n",
    "\n",
    "# add the minimum 0.1 serving if chosen constraint to the problem\n",
    "for i in food:\n",
    "    prob1 += variables[i] >= y[i]*0.1\n",
    "    # originally I only add the above condition variables[i] >= y[i]*0.1\n",
    "    # turn out another condition is needed to prevent y to be zero\n",
    "    # added as follows\n",
    "    prob1 += variables[i] <= y[i]*1000000"
   ]
  },
  {
   "cell_type": "code",
   "execution_count": 15,
   "id": "5069423c-0b15-4162-aee4-162a236375b4",
   "metadata": {},
   "outputs": [],
   "source": [
    "# Condition b\n",
    "# celery and frozen broccoli, at most 1\n",
    "\n",
    "celery_broccoli = ['Frozen Broccoli', 'Celery, Raw']\n",
    "\n",
    "prob1 += lpSum([y[i] for i in celery_broccoli]) <= 1, 'at most 1 celery and frozen broccoli'"
   ]
  },
  {
   "cell_type": "code",
   "execution_count": 16,
   "id": "d0247897-11d1-4d99-8ab3-ecd891b8908e",
   "metadata": {},
   "outputs": [],
   "source": [
    "# Condition c\n",
    "# define a protein list\n",
    "protein = [ 'Tofu', 'Roasted Chicken', 'Poached Eggs', 'Scrambled Eggs', 'Bologna,Turkey',\n",
    " 'Frankfurter, Beef', 'Ham,Sliced,Extralean', 'Kielbasa,Prk', 'Hotdog, Plain', 'Pork',\n",
    " 'Sardines in Oil', 'White Tuna in Water']\n",
    "\n",
    "prob1 += lpSum([y[i] for i in protein]) >= 3, 'at least 3 proteins'"
   ]
  },
  {
   "cell_type": "code",
   "execution_count": 17,
   "id": "41740ace-fbcb-473b-aa3a-a1a0a3040769",
   "metadata": {},
   "outputs": [],
   "source": [
    "# add minimal and maximal daily intake constraints\n",
    "for k in ['Calories', 'Cholesterol mg', \\\n",
    "          'Total_Fat g', 'Sodium mg', 'Carbohydrates g', 'Dietary_Fiber g',\\\n",
    "          'Protein g', 'Vit_A IU', 'Vit_C IU', 'Calcium mg', 'Iron mg']:\n",
    "    prob1 += lpSum([variables[i]*all_data[k][i] for i in food]) >= daily_intake[k].tolist()[0], 'min_'+k\n",
    "    prob1 += lpSum([variables[i]*all_data[k][i] for i in food]) <= daily_intake[k].tolist()[1], 'max_'+k"
   ]
  },
  {
   "cell_type": "code",
   "execution_count": 18,
   "id": "8110d4b8-58c2-4e62-a439-fb7212baff41",
   "metadata": {},
   "outputs": [
    {
     "name": "stdout",
     "output_type": "stream",
     "text": [
      "Status: Optimal\n"
     ]
    }
   ],
   "source": [
    "prob1.solve()\n",
    "print(\"Status:\", LpStatus[prob1.status])"
   ]
  },
  {
   "cell_type": "code",
   "execution_count": 19,
   "id": "12158845-fb43-42b8-bcac-6a3519712a40",
   "metadata": {},
   "outputs": [
    {
     "name": "stdout",
     "output_type": "stream",
     "text": [
      "Food selection to minimize cost with 3 additional constraints:\n",
      "\n",
      "choose_Celery,_Raw = 1.0 servings\n",
      "choose_Kielbasa,Prk = 1.0 servings\n",
      "choose_Lettuce,Iceberg,Raw = 1.0 servings\n",
      "choose_Oranges = 1.0 servings\n",
      "choose_Peanut_Butter = 1.0 servings\n",
      "choose_Poached_Eggs = 1.0 servings\n",
      "choose_Popcorn,Air_Popped = 1.0 servings\n",
      "choose_Scrambled_Eggs = 1.0 servings\n",
      "type_Celery,_Raw = 42.399358 servings\n",
      "type_Kielbasa,Prk = 0.1 servings\n",
      "type_Lettuce,Iceberg,Raw = 82.802586 servings\n",
      "type_Oranges = 3.0771841 servings\n",
      "type_Peanut_Butter = 1.9429716 servings\n",
      "type_Poached_Eggs = 0.1 servings\n",
      "type_Popcorn,Air_Popped = 13.223294 servings\n",
      "type_Scrambled_Eggs = 0.1 servings\n",
      "\n",
      "Total Diet Cost per Day = $ 4.51\n"
     ]
    }
   ],
   "source": [
    "# Final result for the optimization\n",
    "\n",
    "print('Food selection to minimize cost with 3 additional constraints:\\n')\n",
    "for v in prob1.variables():\n",
    "    if v.varValue > 0:\n",
    "        print(v.name, \"=\", v.varValue, 'servings')\n",
    "print(\"\\nTotal Diet Cost per Day = $\", round(value(prob1.objective), 2))"
   ]
  }
 ],
 "metadata": {
  "kernelspec": {
   "display_name": "Python 3 (ipykernel)",
   "language": "python",
   "name": "python3"
  },
  "language_info": {
   "codemirror_mode": {
    "name": "ipython",
    "version": 3
   },
   "file_extension": ".py",
   "mimetype": "text/x-python",
   "name": "python",
   "nbconvert_exporter": "python",
   "pygments_lexer": "ipython3",
   "version": "3.11.5"
  }
 },
 "nbformat": 4,
 "nbformat_minor": 5
}
