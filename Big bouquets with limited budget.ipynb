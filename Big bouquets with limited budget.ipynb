{
 "cells": [
  {
   "cell_type": "markdown",
   "id": "44032b40-0762-4645-935a-04a813b41fcf",
   "metadata": {},
   "source": [
    "The goal for this problem is to maximize the number of flowers used to make 10 bouquets, with limited budget. \n",
    "Here are the consditions:\n",
    "Variables: number each flowers to be purchased to make the bouquets\n",
    "Constraints: 1. 7 different flower types and 1 green; 2. 4-8 of each flower in each bouquet, 3-4 greens; 3. total cost not to exceed $1000\n",
    "Objective: maximize total number of flowers\n",
    "\n",
    "Excel file is not needed. data is simple for this problem: {'Rose': 2.3, 'Daisy': 2.25, 'Calla Lily': 2.53, 'Gerbera Daisy': 2.45, 'Carnation': 2.17, 'Tulip': 2.15, 'Spider Mum': 2.5, 'Greens': 2.1}"
   ]
  },
  {
   "cell_type": "code",
   "execution_count": 1,
   "id": "3d123f09-1be6-4d68-8f3a-1fe6631edb85",
   "metadata": {},
   "outputs": [],
   "source": [
    "# import required packages\n",
    "import pandas as pd\n",
    "from pulp import *"
   ]
  },
  {
   "cell_type": "code",
   "execution_count": 2,
   "id": "46ae5e91-5b06-418c-825f-1f855ab573e0",
   "metadata": {},
   "outputs": [
    {
     "name": "stdout",
     "output_type": "stream",
     "text": [
      "{'Rose': 2.3, 'Daisy': 2.25, 'Calla Lily': 2.53, 'Gerbera Daisy': 2.45, 'Carnation': 2.17, 'Tulip': 2.15, 'Spider Mum': 2.5, 'Greens': 2.1}\n"
     ]
    }
   ],
   "source": [
    "# import and raarrange data\n",
    "flower = pd.read_excel(\"Flowers.xlsx\", sheet_name = \"Sheet1\")\n",
    "d = {}\n",
    "for index, i in flower.iterrows():\n",
    "    d[i['Flower']] = i['Price']\n",
    "print(d)"
   ]
  },
  {
   "cell_type": "code",
   "execution_count": 3,
   "id": "0894ef44-ad17-420c-849a-f7f5dd5ae9ba",
   "metadata": {},
   "outputs": [
    {
     "name": "stdout",
     "output_type": "stream",
     "text": [
      "['Rose', 'Daisy', 'Calla Lily', 'Gerbera Daisy', 'Carnation', 'Tulip', 'Spider Mum', 'Greens']\n"
     ]
    }
   ],
   "source": [
    "flowers = list(d.keys())\n",
    "print(flowers)"
   ]
  },
  {
   "cell_type": "code",
   "execution_count": 4,
   "id": "ce3f0462-e563-44f1-89dc-87d35f446cd8",
   "metadata": {},
   "outputs": [],
   "source": [
    "# create the problem\n",
    "prob = LpProblem(\"Maximizing_number_of_flowers\", LpMaximize)\n",
    "\n",
    "# create variables to be optimized, must be 0 or bigger\n",
    "variables = LpVariable.dicts('number', flowers, 0, upBound = None, cat = \"Integer\")\n",
    "\n",
    "# first add objective function\n",
    "prob += lpSum([variables[i] for i in flowers]), 'total_number_of_flowers'\n",
    "\n",
    "# add constraints:\n",
    "for i in flowers:\n",
    "    if not i == 'Greens':\n",
    "        prob += variables[i] >= 40\n",
    "        prob += variables[i] <= 80\n",
    "    else:\n",
    "        prob += variables[i] >= 30\n",
    "        prob += variables[i] <= 40\n",
    "\n",
    "# add price limits\n",
    "prob += lpSum([variables[i]*d[i] for i in flowers]) <= 1000"
   ]
  },
  {
   "cell_type": "code",
   "execution_count": 5,
   "id": "167102c0-2588-4583-8726-de71558bd4e8",
   "metadata": {},
   "outputs": [
    {
     "name": "stdout",
     "output_type": "stream",
     "text": [
      "Status: Optimal\n"
     ]
    }
   ],
   "source": [
    "prob.solve()\n",
    "print(\"Status:\", LpStatus[prob.status])"
   ]
  },
  {
   "cell_type": "code",
   "execution_count": 6,
   "id": "105bca40-0d00-42e7-b7b4-07b79c33b741",
   "metadata": {},
   "outputs": [
    {
     "name": "stdout",
     "output_type": "stream",
     "text": [
      "Flower selection to maximize the total number\n",
      "number_Calla_Lily = 40 piece\n",
      "number_Carnation = 80 piece\n",
      "number_Daisy = 79 piece\n",
      "number_Gerbera_Daisy = 40 piece\n",
      "number_Greens = 40 piece\n",
      "number_Rose = 40 piece\n",
      "number_Spider_Mum = 40 piece\n",
      "number_Tulip = 80 piece\n",
      "Total number of flowers 439\n"
     ]
    }
   ],
   "source": [
    "# Final result for the optimization\n",
    "\n",
    "print('Flower selection to maximize the total number')\n",
    "for v in prob.variables():\n",
    "    if v.varValue > 0:\n",
    "        print(v.name, \"=\", int(v.varValue), 'piece')\n",
    "print(\"Total number of flowers\", int(value(prob.objective)))"
   ]
  }
 ],
 "metadata": {
  "kernelspec": {
   "display_name": "Python 3 (ipykernel)",
   "language": "python",
   "name": "python3"
  },
  "language_info": {
   "codemirror_mode": {
    "name": "ipython",
    "version": 3
   },
   "file_extension": ".py",
   "mimetype": "text/x-python",
   "name": "python",
   "nbconvert_exporter": "python",
   "pygments_lexer": "ipython3",
   "version": "3.11.5"
  }
 },
 "nbformat": 4,
 "nbformat_minor": 5
}
